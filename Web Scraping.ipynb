{
 "cells": [
  {
   "cell_type": "code",
   "execution_count": 35,
   "metadata": {},
   "outputs": [
    {
     "name": "stderr",
     "output_type": "stream",
     "text": [
      "[WDM] - ====== WebDriver manager ======\n",
      "[WDM] - Current google-chrome version is 89.0.4389\n",
      "[WDM] - Get LATEST driver version for 89.0.4389\n",
      "[WDM] - Driver [C:\\Users\\sqq7\\.wdm\\drivers\\chromedriver\\win32\\89.0.4389.23\\chromedriver.exe] found in cache\n"
     ]
    },
    {
     "name": "stdout",
     "output_type": "stream",
     "text": [
      "\n",
      "\n"
     ]
    }
   ],
   "source": [
    "from selenium import webdriver\n",
    "from bs4 import BeautifulSoup as soup \n",
    "from webdriver_manager.chrome import ChromeDriverManager\n",
    "d = webdriver.Chrome(ChromeDriverManager().install())\n",
    "\n",
    "d.get('https://www.nba.com/stats/players/traditional/?sort=PTS&dir=-1')\n",
    "s = soup(d.page_source, 'html.parser').find('table', {'class':'table'})\n",
    "\n",
    "headers, [_, *data] = [i.text for i in s.find_all('th')], [[i.text for i in b.find_all('td')] for b in s.find_all('tr')]\n",
    "final_data = [i for i in data if len(i) > 1]\n",
    "\n",
    "final_data"
   ]
  },
  {
   "cell_type": "code",
   "execution_count": 58,
   "metadata": {},
   "outputs": [
    {
     "data": {
      "text/plain": [
       "21480"
      ]
     },
     "execution_count": 58,
     "metadata": {},
     "output_type": "execute_result"
    }
   ],
   "source": [
    "from urllib.request import urlopen as uReq\n",
    "from bs4 import BeautifulSoup as soup\n",
    "import pandas as pd\n",
    "\n",
    "\n",
    "# NBA season we will be analyzing\n",
    "year = 1980\n",
    "\n",
    "# URL page we will scraping (see image above)\n",
    "url = \"https://www.basketball-reference.com/leagues/NBA_{}_per_game.html\".format(year)\n",
    "# this is the HTML from the given URL\n",
    "html = uReq(url)\n",
    "page_soup = soup(html)\n",
    "\n",
    "# use findALL() to get the column headers\n",
    "page_soup.findAll('tr', limit=2)\n",
    "# use getText()to extract the text we need into a list\n",
    "headers = [th.getText() for th in page_soup.findAll('tr', limit=2)[0].findAll('th')]\n",
    "# exclude the first column as we will not need the ranking order from Basketball Reference for the analysis\n",
    "headers = headers[1:]\n",
    "\n",
    "# avoid the first header row\n",
    "rows = page_soup.findAll('tr')[1:]\n",
    "player_stats = [[td.getText() for td in rows[i].findAll('td')]\n",
    "            for i in range(len(rows))]\n",
    "\n",
    "stats = pd.DataFrame(player_stats, columns = headers)\n",
    "\n",
    "while year < 2020:\n",
    "    url = \"https://www.basketball-reference.com/leagues/NBA_{}_per_game.html\".format(year)\n",
    "    html = uReq(url)\n",
    "    page_soup = soup(html)\n",
    "    page_soup.findAll('tr', limit=2)\n",
    "    headers = [th.getText() for th in page_soup.findAll('tr', limit=2)[0].findAll('th')]\n",
    "    headers = headers[1:]\n",
    "    rows = page_soup.findAll('tr')[1:]\n",
    "    player_stats = [[td.getText() for td in rows[i].findAll('td')]\n",
    "            for i in range(len(rows))]\n",
    "    \n",
    "    stats_temp = pd.DataFrame(player_stats, columns = headers)\n",
    "    stats = stats.append(stats_temp)\n",
    "    year+=1\n",
    "    \n",
    "\n",
    "# Dropping Columns\n",
    "stats.drop('Age',inplace=True,axis=1)\n",
    "len(stats.index)\n"
   ]
  },
  {
   "cell_type": "code",
   "execution_count": 52,
   "metadata": {},
   "outputs": [
    {
     "data": {
      "text/plain": [
       "21480"
      ]
     },
     "execution_count": 52,
     "metadata": {},
     "output_type": "execute_result"
    }
   ],
   "source": []
  },
  {
   "cell_type": "code",
   "execution_count": 57,
   "metadata": {},
   "outputs": [
    {
     "data": {
      "text/plain": [
       "Player    Fred VanVleet\n",
       "Pos                  PG\n",
       "Tm                  TOR\n",
       "G                    37\n",
       "GS                    0\n",
       "MP                  7.9\n",
       "FG                  1.1\n",
       "FGA                 3.0\n",
       "FG%                .351\n",
       "3P                  0.3\n",
       "3PA                 0.8\n",
       "3P%                .379\n",
       "2P                  0.8\n",
       "2PA                 2.2\n",
       "2P%                .341\n",
       "eFG%               .401\n",
       "FT                  0.5\n",
       "FTA                 0.6\n",
       "FT%                .818\n",
       "ORB                 0.1\n",
       "DRB                 1.0\n",
       "TRB                 1.1\n",
       "AST                 0.9\n",
       "STL                 0.4\n",
       "BLK                 0.1\n",
       "TOV                 0.4\n",
       "PF                  1.0\n",
       "PTS                 2.9\n",
       "Name: 563, dtype: object"
      ]
     },
     "execution_count": 57,
     "metadata": {},
     "output_type": "execute_result"
    }
   ],
   "source": [
    "stats.iloc[20000]\n",
    "# year\n",
    "# take out ones that have nothing on it ex. 4000\n",
    "# In season Trades"
   ]
  }
 ],
 "metadata": {
  "kernelspec": {
   "display_name": "Python 3",
   "language": "python",
   "name": "python3"
  },
  "language_info": {
   "codemirror_mode": {
    "name": "ipython",
    "version": 3
   },
   "file_extension": ".py",
   "mimetype": "text/x-python",
   "name": "python",
   "nbconvert_exporter": "python",
   "pygments_lexer": "ipython3",
   "version": "3.8.5"
  }
 },
 "nbformat": 4,
 "nbformat_minor": 4
}
